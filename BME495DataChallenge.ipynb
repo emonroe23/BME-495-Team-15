{
  "nbformat": 4,
  "nbformat_minor": 0,
  "metadata": {
    "colab": {
      "provenance": [],
      "include_colab_link": true
    },
    "kernelspec": {
      "name": "python3",
      "display_name": "Python 3"
    },
    "language_info": {
      "name": "python"
    }
  },
  "cells": [
    {
      "cell_type": "markdown",
      "metadata": {
        "id": "view-in-github",
        "colab_type": "text"
      },
      "source": [
        "<a href=\"https://colab.research.google.com/github/emonroe23/BME-495-Team-15/blob/main/BME495DataChallenge.ipynb\" target=\"_parent\"><img src=\"https://colab.research.google.com/assets/colab-badge.svg\" alt=\"Open In Colab\"/></a>"
      ]
    },
    {
      "cell_type": "code",
      "execution_count": null,
      "metadata": {
        "id": "Zr5MfkLz5SDi"
      },
      "outputs": [],
      "source": [
        "# data preprocessing - split into private testing set, training, and testing"
      ]
    },
    {
      "cell_type": "code",
      "source": [
        "# feature engineering"
      ],
      "metadata": {
        "id": "HyZXVIcV503Q"
      },
      "execution_count": null,
      "outputs": []
    },
    {
      "cell_type": "code",
      "source": [
        "# model selection and tuning"
      ],
      "metadata": {
        "id": "rWC0OTQD53WX"
      },
      "execution_count": null,
      "outputs": []
    },
    {
      "cell_type": "code",
      "source": [
        "# evaluation\n",
        "from sklearn.linear_model import LogisticRegression\n",
        "from sklearn.tree import DecisionTreeClassifier\n",
        "from sklearn.ensemble import RandomForestClassifier\n",
        "from sklearn.neural_network import MLPClassifier\n",
        "from sklearn.model_selection import GridSearchCV\n"
      ],
      "metadata": {
        "id": "05yU6sAW562h"
      },
      "execution_count": null,
      "outputs": []
    }
  ]
}